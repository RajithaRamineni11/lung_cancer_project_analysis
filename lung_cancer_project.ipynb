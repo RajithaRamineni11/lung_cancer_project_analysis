{
 "cells": [
  {
   "cell_type": "code",
   "execution_count": null,
   "id": "745b2cc4",
   "metadata": {},
   "outputs": [],
   "source": [
    "#Lung_cancer_examples\n",
    "#module 1"
   ]
  },
  {
   "cell_type": "code",
   "execution_count": null,
   "id": "2da00cc0",
   "metadata": {},
   "outputs": [],
   "source": [
    "import pandas as pd\n",
    "import warnings\n",
    "warnings.filterwarnings('ignore')\n",
    "\n",
    "\n",
    "def read_csv():\n",
    "    # Method to read the CSV file \"lung_cancer_examples.csv\" using pandas.\n",
    "    df=pd.read_csv(\"lung_cancer_examples.csv\")\n",
    "\n",
    "    return df\n",
    "\n",
    "\n",
    "def check_duplicates():\n",
    "    df = read_csv()\n",
    "    # Method to check for duplicate rows in the DataFrame.\n",
    "    # Returns: The number of duplicated rows found in the DataFrame.\n",
    "    df=df.duplicated().sum()\n",
    "    \n",
    "    return df\n",
    "\n",
    "\n",
    "\n",
    "def check_null_values():\n",
    "    df = read_csv()\n",
    "    # Method to check for null (missing) values in the DataFrame.\n",
    "    # Returns: A pandas Series indicating the count of null values for each column in the DataFrame.\n",
    "    df=df.isnull().sum()\n",
    "    return df\n",
    "\n",
    "\n",
    "def rename_column():\n",
    "    # do not edit the predefined function name\n",
    "    df = read_csv()\n",
    "    # Rename columns 'Alkhol' to 'Alcohol'.\n",
    "    df.rename(columns={'Alkhol':'Alcohol'},inplace=True)\n",
    "    \n",
    "\n",
    "    return df\n",
    "\n",
    "\n",
    "def check_smoke_value():\n",
    "    # do not edit the predefined function name\n",
    "    data = rename_column()\n",
    "\n",
    "    # Count the occurrences of each unique value in the 'Smokes' column\n",
    "    data=data['Smokes'].value_counts()\n",
    "\n",
    "\n",
    "    # Return the counts of each unique smoking habit value\n",
    "    return data\n",
    "\n"
   ]
  },
  {
   "cell_type": "code",
   "execution_count": null,
   "id": "d3fbd999",
   "metadata": {},
   "outputs": [],
   "source": [
    "#module2"
   ]
  },
  {
   "cell_type": "code",
   "execution_count": null,
   "id": "7c3b9c5b",
   "metadata": {},
   "outputs": [],
   "source": [
    "import module1 as t1\n",
    "\n",
    "\n",
    "\n",
    "\n",
    "# Function to categorize individuals based on the number of cigarettes smoked per day\n",
    "def categorize_smokers(x):\n",
    "    #If x is 0, categorize the person as 'Non-Smokers'.\n",
    "\n",
    "    # If x is less than or equal to 2, categorize the person as 'Light Smokers'.\n",
    "\n",
    "    # If x is greater than 2 and less than or equal to 10, categorize the person as 'Mediocre Smokers'.\n",
    "\n",
    "    # If x is greater than 10, categorize the person as 'Heavy Smokers'.\n",
    "    if x == 0:\n",
    "        return 'Non-Smokers'\n",
    "    elif x <= 2:\n",
    "        return 'Light Smokers'\n",
    "    elif x <= 10:\n",
    "        return 'Mediocre Smokers'\n",
    "    else:\n",
    "        return 'Heavy Smokers'\n",
    "    pass\n",
    "\n",
    "\n",
    "\n",
    "\n",
    "\n",
    "# Function to process the smoking data and add a new 'Smoking_Category' column\n",
    "def smokes():\n",
    "    # do not edit the predefined function name\n",
    "    data = t1.rename_column()\n",
    "\n",
    "    # Applying the 'categorize_smokers' function to each value in the 'Smokes' column\n",
    "    # and storing the result in a new column 'Smoking_Category'\n",
    "    data['Smoking_Category'] = data['Smokes'].apply(categorize_smokers)\n",
    "\n",
    "    # Returning the modified dataset with the new 'Smoking_Category' column\n",
    "    return data\n",
    "\n",
    "\n",
    "\n",
    "\n",
    "def check_alcohol_value():\n",
    "    # do not edit the predefined function name\n",
    "    data = smokes()\n",
    "    \n",
    "\n",
    "    # Count the occurrences of each unique value in the 'Alcohol' column\n",
    "    data=data['Alcohol'].value_counts()\n",
    "    \n",
    "\n",
    "    # Return the counts of each unique smoking habit value\n",
    "    return data\n",
    "\n",
    "\n",
    "\n",
    "\n",
    "\n",
    "\n",
    "\n",
    "# Function to categorize individuals based on the number of alcohol drinks consumed per day\n",
    "def categorize_alcohol(x):\n",
    "\n",
    "    # If x is 0, categorize the person as 'Non-Drinkers'.\n",
    "\n",
    "    # If x is less than or equal to 2, categorize the person as 'Light Drinkers'.\n",
    "\n",
    "    # If x is greater than 2 and less than or equal to 10, categorize the person as 'Mediocre Drinkers'.\n",
    "\n",
    "    # If x is greater than 10, categorize the person as 'Heavy Drinkers'.\n",
    "    if x == 0:\n",
    "        return 'Non-Drinkers'\n",
    "    elif x <= 2:\n",
    "        return 'Light Drinkers'\n",
    "    elif x <= 10:\n",
    "        return 'Mediocre Drinkers'\n",
    "    else:\n",
    "        return 'Heavy Drinkers'\n",
    "    pass\n",
    "\n",
    "\n",
    "\n",
    "\n",
    "# Function to process the alcohol data and add a new 'Alcohol_Category' column\n",
    "def alkhol():\n",
    "    # Assuming the 'smokes()' function retrieves the dataset with the 'Smokes' column and the 'Alcohol' column\n",
    "    data = smokes()\n",
    "\n",
    "    # Applying the 'categorize_alcohol' function to each value in the 'Alcohol' column\n",
    "    # and storing the result in a new column 'Alcohol_Category'\n",
    "    data['Alcohol_Category']=data['Alcohol'].apply(categorize_alcohol)\n",
    "\n",
    "    # Returning the modified dataset with the new 'Alcohol_Category' column\n",
    "    return data\n",
    "\n",
    "\n",
    "\n",
    "\n",
    "def export_the_dataset():\n",
    "    # do not edit the predefined function name\n",
    "    df = alkhol()\n",
    "    # write your code to export the cleaned dataset and set the index=false and return the same as 'df'\n",
    "    df.to_csv(\"lung_cancer.csv\",index=False)\n",
    "    return df\n",
    "\n",
    "\n"
   ]
  },
  {
   "cell_type": "code",
   "execution_count": null,
   "id": "29039c21",
   "metadata": {},
   "outputs": [],
   "source": [
    "#sql queries"
   ]
  },
  {
   "cell_type": "code",
   "execution_count": null,
   "id": "cc1bc079",
   "metadata": {},
   "outputs": [],
   "source": [
    "#How many values are there in the given dataset\n",
    "SELECT COUNT(*) FROM `lung_cancer`"
   ]
  },
  {
   "cell_type": "code",
   "execution_count": null,
   "id": "b231bcb0",
   "metadata": {},
   "outputs": [],
   "source": [
    "#Select the average age of individuals in the given dataset\n",
    "SELECT avg(age) avg_age FROM `lung_cancer`"
   ]
  },
  {
   "cell_type": "code",
   "execution_count": null,
   "id": "ce5df05d",
   "metadata": {},
   "outputs": [],
   "source": [
    "#Select the total count of 'Smokers' in the given dataset\n",
    "SELECT COUNT(DISTINCT Smoking_Category)  FROM `lung_cancer` where Smoking_Category NOT in ('Non-Smokers')"
   ]
  },
  {
   "cell_type": "code",
   "execution_count": null,
   "id": "b5299f07",
   "metadata": {},
   "outputs": [],
   "source": [
    "#Select the 'Name', 'Age', and 'Alcohol Category' columns for 'Mediocare Drinkers'\n",
    "SELECT name,age,Alcohol_Category FROM `lung_cancer` where Alcohol_Category='Mediocre Drinkers'"
   ]
  },
  {
   "cell_type": "code",
   "execution_count": null,
   "id": "082dc069",
   "metadata": {},
   "outputs": [],
   "source": [
    "#Select the 'Name' and 'Age' of the oldest individual in the given dataset.\n",
    "SELECT name,age FROM `lung_cancer` where age in (select max(age) FROM lung_cancer)"
   ]
  },
  {
   "cell_type": "code",
   "execution_count": null,
   "id": "718acbce",
   "metadata": {},
   "outputs": [],
   "source": [
    "#Select the 'Name' and 'Surname' of individuals whose names start with 'A'.\n",
    "SELECT name,Surname FROM `lung_cancer` where name like 'A%'"
   ]
  },
  {
   "cell_type": "code",
   "execution_count": null,
   "id": "eb7f5a3e",
   "metadata": {},
   "outputs": [],
   "source": [
    "#Select the 'Name', 'Age', and 'Alcohol' columns for individuals who are both 'Heavy Smokers' and 'Mediocare Drinkers'\n",
    "SELECT name,age,Alcohol FROM `lung_cancer` where Smoking_Category='Heavy Smokers' and Alcohol_Category='Mediocre Drinkers'"
   ]
  },
  {
   "cell_type": "code",
   "execution_count": null,
   "id": "1ac7ed2c",
   "metadata": {},
   "outputs": [],
   "source": [
    "#Find out the percentage of lung cancer for individuals whose age is greater than 18.\n",
    "SELECT (select DISTINCT result FROM lung_cancer where Result=1) as Result,(select COUNT(Result) FROM lung_cancer where Result=1 and age>18) as Count,\n",
    "    (SUM(CASE WHEN Age > 18 AND Result = 1 THEN 1 ELSE 0 END) / SUM(CASE WHEN Age > 18 THEN 1 ELSE 0 END)) * 100.0 AS Percentage \n",
    "FROM lung_cancer\n",
    "UNION\n",
    "SELECT (select DISTINCT result FROM lung_cancer where Result=0) as Result,(select COUNT(Result) FROM lung_cancer where Result=0 and age>18) as Count,\n",
    "    (SUM(CASE WHEN Age > 18 AND Result = 0 THEN 1 ELSE 0 END) / SUM(CASE WHEN Age > 18 THEN 1 ELSE 0 END)) * 100.0 AS Percentage \n",
    "FROM lung_cancer"
   ]
  },
  {
   "cell_type": "code",
   "execution_count": null,
   "id": "0198eb5c",
   "metadata": {},
   "outputs": [],
   "source": [
    "#Select the names and ages of individuals whose names contain the word \"John\".\n",
    "SELECT name,age FROM `lung_cancer` where name like '%John%'"
   ]
  },
  {
   "cell_type": "code",
   "execution_count": null,
   "id": "3e8a03f5",
   "metadata": {},
   "outputs": [],
   "source": [
    "#Find the count of people who have lung cancer with different 'Smoking Category'.\n",
    "SELECT Smoking_Category,COUNT(Smoking_Category) FROM `lung_cancer` where Result=1 GROUP by Smoking_Category"
   ]
  },
  {
   "cell_type": "code",
   "execution_count": null,
   "id": "70facf67",
   "metadata": {},
   "outputs": [],
   "source": [
    "#Find the count of people who have lung cancer with different 'Alcohol Category'.\n",
    "SELECT alcohol_category,COUNT(Alcohol_Category) FROM `lung_cancer` where Result=1 GROUP by Alcohol_Category"
   ]
  },
  {
   "cell_type": "code",
   "execution_count": null,
   "id": "be30b85c",
   "metadata": {},
   "outputs": [],
   "source": []
  }
 ],
 "metadata": {
  "kernelspec": {
   "display_name": "Python 3 (ipykernel)",
   "language": "python",
   "name": "python3"
  },
  "language_info": {
   "codemirror_mode": {
    "name": "ipython",
    "version": 3
   },
   "file_extension": ".py",
   "mimetype": "text/x-python",
   "name": "python",
   "nbconvert_exporter": "python",
   "pygments_lexer": "ipython3",
   "version": "3.9.13"
  }
 },
 "nbformat": 4,
 "nbformat_minor": 5
}
